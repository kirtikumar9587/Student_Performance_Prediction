{
 "cells": [
  {
   "cell_type": "markdown",
   "id": "bb4bcb5b",
   "metadata": {},
   "source": [
    "<h2> Student Performance Prediction(Prediction using Supervised ML) (Level - Beginner)</h2>"
   ]
  },
  {
   "cell_type": "markdown",
   "id": "c4d05c4d",
   "metadata": {},
   "source": [
    "<h3>Linear Regression with Python Scikit Learn</h3>"
   ]
  },
  {
   "cell_type": "markdown",
   "id": "414a7596",
   "metadata": {},
   "source": [
    "<p>In this section we will see how the Python Scikit-Learn library for machine learning can be used to implement regression functions. We will start with simple linear regression involving two variables.</p>"
   ]
  },
  {
   "cell_type": "markdown",
   "id": "658ec83b",
   "metadata": {},
   "source": [
    "<h3>Problem statement</h3>"
   ]
  },
  {
   "cell_type": "markdown",
   "id": "b5fcc44e",
   "metadata": {},
   "source": [
    "In this regression task we will predict the percentage of marks that a student is expected to score based upon the number of hours they studied. This is a simple linear regression task as it involves just two variables."
   ]
  },
  {
   "cell_type": "markdown",
   "id": "1ecd1b07",
   "metadata": {},
   "source": [
    "<h3>To predict:<h3>"
   ]
  },
  {
   "cell_type": "markdown",
   "id": "8b3492d9",
   "metadata": {},
   "source": [
    " What will be predicted score if a student studies for 9.25 hrs/ day?"
   ]
  },
  {
   "cell_type": "markdown",
   "id": "70513032",
   "metadata": {},
   "source": [
    "<h2>Author:Kirti Kumar</h2>"
   ]
  },
  {
   "cell_type": "markdown",
   "id": "068fd01a",
   "metadata": {},
   "source": [
    "<h4>Step:1 --- Importing all libraries required in this notebook</h4> "
   ]
  },
  {
   "cell_type": "code",
   "execution_count": 75,
   "id": "80a55719",
   "metadata": {},
   "outputs": [],
   "source": [
    "import lux\n",
    "import pandas as pd\n",
    "import numpy as np\n",
    "import seaborn as sns\n",
    "import matplotlib.pyplot as mtp\n",
    "\n"
   ]
  },
  {
   "cell_type": "code",
   "execution_count": 76,
   "id": "696d9ed0",
   "metadata": {},
   "outputs": [],
   "source": [
    "from sklearn import linear_model\n",
    "from sklearn.model_selection import train_test_split\n",
    "from sklearn.linear_model import LinearRegression"
   ]
  },
  {
   "cell_type": "markdown",
   "id": "739ba1e9",
   "metadata": {},
   "source": [
    "<h3>Step:2--- Reading data from csv file</h3>"
   ]
  },
  {
   "cell_type": "markdown",
   "id": "8f8f66c7",
   "metadata": {},
   "source": []
  },
  {
   "cell_type": "code",
   "execution_count": 4,
   "id": "b93086a3",
   "metadata": {},
   "outputs": [],
   "source": [
    "df = pd.read_csv('D://Prediction using Supervised ML//student_scores.csv')"
   ]
  },
  {
   "cell_type": "code",
   "execution_count": 79,
   "id": "62db636e",
   "metadata": {},
   "outputs": [
    {
     "data": {
      "text/html": [
       "<div>\n",
       "<style scoped>\n",
       "    .dataframe tbody tr th:only-of-type {\n",
       "        vertical-align: middle;\n",
       "    }\n",
       "\n",
       "    .dataframe tbody tr th {\n",
       "        vertical-align: top;\n",
       "    }\n",
       "\n",
       "    .dataframe thead th {\n",
       "        text-align: right;\n",
       "    }\n",
       "</style>\n",
       "<table border=\"1\" class=\"dataframe\">\n",
       "  <thead>\n",
       "    <tr style=\"text-align: right;\">\n",
       "      <th></th>\n",
       "      <th>Hours</th>\n",
       "      <th>Scores</th>\n",
       "    </tr>\n",
       "  </thead>\n",
       "  <tbody>\n",
       "    <tr>\n",
       "      <th>0</th>\n",
       "      <td>2.5</td>\n",
       "      <td>21</td>\n",
       "    </tr>\n",
       "    <tr>\n",
       "      <th>1</th>\n",
       "      <td>5.1</td>\n",
       "      <td>47</td>\n",
       "    </tr>\n",
       "    <tr>\n",
       "      <th>2</th>\n",
       "      <td>3.2</td>\n",
       "      <td>27</td>\n",
       "    </tr>\n",
       "    <tr>\n",
       "      <th>3</th>\n",
       "      <td>8.5</td>\n",
       "      <td>75</td>\n",
       "    </tr>\n",
       "    <tr>\n",
       "      <th>4</th>\n",
       "      <td>3.5</td>\n",
       "      <td>30</td>\n",
       "    </tr>\n",
       "    <tr>\n",
       "      <th>5</th>\n",
       "      <td>1.5</td>\n",
       "      <td>20</td>\n",
       "    </tr>\n",
       "    <tr>\n",
       "      <th>6</th>\n",
       "      <td>9.2</td>\n",
       "      <td>88</td>\n",
       "    </tr>\n",
       "    <tr>\n",
       "      <th>7</th>\n",
       "      <td>5.5</td>\n",
       "      <td>60</td>\n",
       "    </tr>\n",
       "    <tr>\n",
       "      <th>8</th>\n",
       "      <td>8.3</td>\n",
       "      <td>81</td>\n",
       "    </tr>\n",
       "    <tr>\n",
       "      <th>9</th>\n",
       "      <td>2.7</td>\n",
       "      <td>25</td>\n",
       "    </tr>\n",
       "    <tr>\n",
       "      <th>10</th>\n",
       "      <td>7.7</td>\n",
       "      <td>85</td>\n",
       "    </tr>\n",
       "    <tr>\n",
       "      <th>11</th>\n",
       "      <td>5.9</td>\n",
       "      <td>62</td>\n",
       "    </tr>\n",
       "    <tr>\n",
       "      <th>12</th>\n",
       "      <td>4.5</td>\n",
       "      <td>41</td>\n",
       "    </tr>\n",
       "    <tr>\n",
       "      <th>13</th>\n",
       "      <td>3.3</td>\n",
       "      <td>42</td>\n",
       "    </tr>\n",
       "    <tr>\n",
       "      <th>14</th>\n",
       "      <td>1.1</td>\n",
       "      <td>17</td>\n",
       "    </tr>\n",
       "    <tr>\n",
       "      <th>15</th>\n",
       "      <td>8.9</td>\n",
       "      <td>95</td>\n",
       "    </tr>\n",
       "    <tr>\n",
       "      <th>16</th>\n",
       "      <td>2.5</td>\n",
       "      <td>30</td>\n",
       "    </tr>\n",
       "    <tr>\n",
       "      <th>17</th>\n",
       "      <td>1.9</td>\n",
       "      <td>24</td>\n",
       "    </tr>\n",
       "    <tr>\n",
       "      <th>18</th>\n",
       "      <td>6.1</td>\n",
       "      <td>67</td>\n",
       "    </tr>\n",
       "    <tr>\n",
       "      <th>19</th>\n",
       "      <td>7.4</td>\n",
       "      <td>69</td>\n",
       "    </tr>\n",
       "    <tr>\n",
       "      <th>20</th>\n",
       "      <td>2.7</td>\n",
       "      <td>30</td>\n",
       "    </tr>\n",
       "    <tr>\n",
       "      <th>21</th>\n",
       "      <td>4.8</td>\n",
       "      <td>54</td>\n",
       "    </tr>\n",
       "    <tr>\n",
       "      <th>22</th>\n",
       "      <td>3.8</td>\n",
       "      <td>35</td>\n",
       "    </tr>\n",
       "    <tr>\n",
       "      <th>23</th>\n",
       "      <td>6.9</td>\n",
       "      <td>76</td>\n",
       "    </tr>\n",
       "    <tr>\n",
       "      <th>24</th>\n",
       "      <td>7.8</td>\n",
       "      <td>86</td>\n",
       "    </tr>\n",
       "  </tbody>\n",
       "</table>\n",
       "</div>"
      ],
      "text/plain": [
       "    Hours  Scores\n",
       "0     2.5      21\n",
       "1     5.1      47\n",
       "2     3.2      27\n",
       "3     8.5      75\n",
       "4     3.5      30\n",
       "5     1.5      20\n",
       "6     9.2      88\n",
       "7     5.5      60\n",
       "8     8.3      81\n",
       "9     2.7      25\n",
       "10    7.7      85\n",
       "11    5.9      62\n",
       "12    4.5      41\n",
       "13    3.3      42\n",
       "14    1.1      17\n",
       "15    8.9      95\n",
       "16    2.5      30\n",
       "17    1.9      24\n",
       "18    6.1      67\n",
       "19    7.4      69\n",
       "20    2.7      30\n",
       "21    4.8      54\n",
       "22    3.8      35\n",
       "23    6.9      76\n",
       "24    7.8      86"
      ]
     },
     "execution_count": 79,
     "metadata": {},
     "output_type": "execute_result"
    }
   ],
   "source": [
    "df"
   ]
  },
  {
   "cell_type": "markdown",
   "id": "9eda30e1",
   "metadata": {},
   "source": [
    "<h3>Steps:3 --- Preparing the data </h3>"
   ]
  },
  {
   "cell_type": "code",
   "execution_count": 19,
   "id": "865a5079",
   "metadata": {},
   "outputs": [
    {
     "data": {
      "text/plain": [
       "Index(['Hours', 'Scores'], dtype='object')"
      ]
     },
     "execution_count": 19,
     "metadata": {},
     "output_type": "execute_result"
    }
   ],
   "source": [
    "df.columns"
   ]
  },
  {
   "cell_type": "code",
   "execution_count": 20,
   "id": "ad80cb9c",
   "metadata": {},
   "outputs": [
    {
     "data": {
      "text/plain": [
       "(25, 2)"
      ]
     },
     "execution_count": 20,
     "metadata": {},
     "output_type": "execute_result"
    }
   ],
   "source": [
    "df.shape"
   ]
  },
  {
   "cell_type": "code",
   "execution_count": 22,
   "id": "6bc106d8",
   "metadata": {},
   "outputs": [],
   "source": [
    "train,test = train_test_split(df,test_size = 0.20,random_state=123)"
   ]
  },
  {
   "cell_type": "code",
   "execution_count": 23,
   "id": "936a1845",
   "metadata": {},
   "outputs": [
    {
     "data": {
      "text/plain": [
       "(20, 2)"
      ]
     },
     "execution_count": 23,
     "metadata": {},
     "output_type": "execute_result"
    }
   ],
   "source": [
    "train.shape"
   ]
  },
  {
   "cell_type": "code",
   "execution_count": 24,
   "id": "f0c36a8d",
   "metadata": {},
   "outputs": [
    {
     "data": {
      "text/plain": [
       "(5, 2)"
      ]
     },
     "execution_count": 24,
     "metadata": {},
     "output_type": "execute_result"
    }
   ],
   "source": [
    "test.shape"
   ]
  },
  {
   "cell_type": "code",
   "execution_count": 28,
   "id": "4e88f65c",
   "metadata": {},
   "outputs": [],
   "source": [
    "train_x = train.drop(\"Scores\",axis = 1)\n",
    "train_y = train[\"Scores\"]"
   ]
  },
  {
   "cell_type": "code",
   "execution_count": 30,
   "id": "b3adc6b3",
   "metadata": {},
   "outputs": [],
   "source": [
    "test_x=test.drop(\"Scores\",axis=1)\n",
    "test_y=test[\"Scores\"]"
   ]
  },
  {
   "cell_type": "markdown",
   "id": "1cc14165",
   "metadata": {},
   "source": [
    "<h3>Step:4 --- Training yhe Algorithm </h3>"
   ]
  },
  {
   "cell_type": "code",
   "execution_count": 80,
   "id": "72b2d60d",
   "metadata": {},
   "outputs": [],
   "source": [
    "lr = LinearRegression()"
   ]
  },
  {
   "cell_type": "code",
   "execution_count": 81,
   "id": "f3b99776",
   "metadata": {},
   "outputs": [
    {
     "data": {
      "text/plain": [
       "LinearRegression()"
      ]
     },
     "execution_count": 81,
     "metadata": {},
     "output_type": "execute_result"
    }
   ],
   "source": [
    "lr.fit(train_x,train_y)"
   ]
  },
  {
   "cell_type": "code",
   "execution_count": 55,
   "id": "8caac063",
   "metadata": {},
   "outputs": [
    {
     "data": {
      "text/plain": [
       "array([9.60171878])"
      ]
     },
     "execution_count": 55,
     "metadata": {},
     "output_type": "execute_result"
    }
   ],
   "source": [
    "lr.coef_"
   ]
  },
  {
   "cell_type": "code",
   "execution_count": 58,
   "id": "9157f8ac",
   "metadata": {},
   "outputs": [
    {
     "data": {
      "text/plain": [
       "2.695388922345728"
      ]
     },
     "execution_count": 58,
     "metadata": {},
     "output_type": "execute_result"
    }
   ],
   "source": [
    "\n",
    "lr.intercept_"
   ]
  },
  {
   "cell_type": "code",
   "execution_count": 87,
   "id": "a0ebbef9",
   "metadata": {},
   "outputs": [],
   "source": [
    "X=df.iloc[:,:-1].values\n",
    "Y=df.iloc[:,1].values"
   ]
  },
  {
   "cell_type": "markdown",
   "id": "b757ae9c",
   "metadata": {},
   "source": [
    "<h5>Plotting the regression line</h5>"
   ]
  },
  {
   "cell_type": "code",
   "execution_count": 85,
   "id": "3f434a6a",
   "metadata": {},
   "outputs": [
    {
     "data": {
      "image/png": "[encoded data removed]",
      "text/plain": [
       "<Figure size 432x288 with 1 Axes>"
      ]
     },
     "metadata": {
      "needs_background": "light"
     },
     "output_type": "display_data"
    }
   ],
   "source": [
    "#plotting the distribution of scores\n",
    "df.plot(x='Hours',y='Scores',style='o')\n",
    "mtp.title('Hours vs Percentage')\n",
    "mtp.xlabel('Hours Studied')\n",
    "mtp.ylabel('Percentage Score')\n",
    "mtp.show()"
   ]
  },
  {
   "cell_type": "code",
   "execution_count": 89,
   "id": "88acbc9a",
   "metadata": {
    "scrolled": false
   },
   "outputs": [
    {
     "data": {
      "image/png": "[encoded data removed]",
      "text/plain": [
       "<Figure size 432x288 with 1 Axes>"
      ]
     },
     "metadata": {
      "needs_background": "light"
     },
     "output_type": "display_data"
    }
   ],
   "source": [
    "#formula for line is y= mx+c \n",
    "line =lr.coef_*X+lr.intercept_ \n",
    "#plotting\n",
    "mtp.scatter(train_x,train_y)\n",
    "mtp.plot(X,line)\n",
    "\n",
    "mtp.show()"
   ]
  },
  {
   "cell_type": "markdown",
   "id": "c4f7031a",
   "metadata": {},
   "source": [
    "<h3>Step:5 ---Making Predictions</h3>"
   ]
  },
  {
   "cell_type": "markdown",
   "id": "f5bb6666",
   "metadata": {},
   "source": [
    "<p>Now we to have trained our algorithm, it's time to make some predictions</p>"
   ]
  },
  {
   "cell_type": "code",
   "execution_count": 69,
   "id": "82c59439",
   "metadata": {},
   "outputs": [],
   "source": [
    "pr=lr.predict(test_x)"
   ]
  },
  {
   "cell_type": "code",
   "execution_count": 70,
   "id": "38d5ad13",
   "metadata": {},
   "outputs": [
    {
     "data": {
      "text/plain": [
       "[(20, 17.09796708930808),\n",
       " (54, 48.783639056625255),\n",
       " (35, 39.18192027865035),\n",
       " (67, 61.26587346799263),\n",
       " (95, 88.15068604632236)]"
      ]
     },
     "execution_count": 70,
     "metadata": {},
     "output_type": "execute_result"
    }
   ],
   "source": [
    "list(zip(test_y,pr))\n"
   ]
  },
  {
   "cell_type": "markdown",
   "id": "077ea91d",
   "metadata": {},
   "source": [
    "<h3>Step:6 --- Evaluating the model</h3>"
   ]
  },
  {
   "cell_type": "markdown",
   "id": "42941b0d",
   "metadata": {},
   "source": [
    "The final step is to evaluate the performance of algorithm. This step is particularly important to compare how well different algorithms perform on a particular dataset. For simplicity here, we have chosen the mean square error. There are many such metrics.\n",
    "\n"
   ]
  },
  {
   "cell_type": "code",
   "execution_count": 90,
   "id": "c7e200b7",
   "metadata": {},
   "outputs": [],
   "source": [
    "from sklearn.metrics import mean_squared_error"
   ]
  },
  {
   "cell_type": "code",
   "execution_count": 91,
   "id": "f9b341b7",
   "metadata": {},
   "outputs": [
    {
     "data": {
      "text/plain": [
       "5.155850704673393"
      ]
     },
     "execution_count": 91,
     "metadata": {},
     "output_type": "execute_result"
    }
   ],
   "source": [
    "mean_squared_error(test_y,pr,squared=False)"
   ]
  },
  {
   "cell_type": "markdown",
   "id": "147fdf0b",
   "metadata": {},
   "source": [
    "<h3>Step:7 --- Solution</h3>"
   ]
  },
  {
   "cell_type": "code",
   "execution_count": 93,
   "id": "29d36cc4",
   "metadata": {},
   "outputs": [
    {
     "name": "stdout",
     "output_type": "stream",
     "text": [
      "No of Houres= [[9.25]]\n",
      "Predicted Scores = 91.51128761861358\n"
     ]
    },
    {
     "name": "stderr",
     "output_type": "stream",
     "text": [
      "C:\\Users\\HP\\anaconda3\\lib\\site-packages\\sklearn\\base.py:450: UserWarning:X does not have valid feature names, but LinearRegression was fitted with feature names\n"
     ]
    }
   ],
   "source": [
    "hour = [9.25]\n",
    "own_pr = lr.predict([hour])\n",
    "print(\"No of Houres= {}\".format([hour]))\n",
    "print(\"Predicted Scores = {}\".format(own_pr[0]))"
   ]
  },
  {
   "cell_type": "markdown",
   "id": "c8c9a509",
   "metadata": {},
   "source": [
    "<h1>Predicted Scores = 91.51128761861358</h1>"
   ]
  },
  {
   "cell_type": "code",
   "execution_count": null,
   "id": "f3ea90c4",
   "metadata": {},
   "outputs": [],
   "source": []
  }
 ],
 "metadata": {
  "kernelspec": {
   "display_name": "Python 3.10.10 64-bit (microsoft store)",
   "language": "python",
   "name": "python3"
  },
  "language_info": {
   "codemirror_mode": {
    "name": "ipython",
    "version": 3
   },
   "file_extension": ".py",
   "mimetype": "text/x-python",
   "name": "python",
   "nbconvert_exporter": "python",
   "pygments_lexer": "ipython3",
   "version": "3.10.11"
  },
  "vscode": {
   "interpreter": {
    "hash": "486e0d5a79acdbfffd563ee7a67a93a5017bd2a4f66495483a69f0245c8a4a6c"
   }
  }
 },
 "nbformat": 4,
 "nbformat_minor": 5
}
